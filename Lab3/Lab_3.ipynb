{
  "nbformat": 4,
  "nbformat_minor": 0,
  "metadata": {
    "colab": {
      "name": "Lab_3.ipynb",
      "provenance": []
    },
    "kernelspec": {
      "name": "python3",
      "display_name": "Python 3"
    },
    "language_info": {
      "name": "python"
    }
  },
  "cells": [
    {
      "cell_type": "code",
      "execution_count": 1,
      "metadata": {
        "id": "fdcNuWaEun37",
        "colab": {
          "base_uri": "https://localhost:8080/"
        },
        "outputId": "60550fac-3e00-4eb8-a8d7-028c72f1a93a"
      },
      "outputs": [
        {
          "output_type": "stream",
          "name": "stdout",
          "text": [
            "Drive already mounted at /content/drive/; to attempt to forcibly remount, call drive.mount(\"/content/drive/\", force_remount=True).\n"
          ]
        }
      ],
      "source": [
        "from google.colab import drive\n",
        "drive.mount('/content/drive/')"
      ]
    },
    {
      "cell_type": "code",
      "source": [
        "import numpy as np\n",
        "import matplotlib.pyplot as plt\n",
        "import pandas as pd\n",
        "from sklearn.model_selection import train_test_split\n",
        "from sklearn.tree import DecisionTreeRegressor as DTR\n",
        "from sklearn.metrics import mean_squared_error as mse\n",
        "from sklearn.metrics import mean_absolute_error as mae\n",
        "from sklearn import tree\n",
        "from sklearn.preprocessing import LabelEncoder\n",
        "from sklearn import preprocessing\n",
        "encode = LabelEncoder()"
      ],
      "metadata": {
        "id": "Kgu4Vz-3z8S-"
      },
      "execution_count": 2,
      "outputs": []
    },
    {
      "cell_type": "markdown",
      "source": [
        "Q1 Housing"
      ],
      "metadata": {
        "id": "ch-BC_X7nW32"
      }
    },
    {
      "cell_type": "code",
      "source": [
        "data_q1=pd.read_csv('/content/drive/MyDrive/Lab-3 ML/Housing.csv')\n",
        "data_q1=data_q1.dropna()\n",
        "price_1=data_q1[['price']]\n",
        "area_1= data_q1[['area']]\n",
        "price_1=preprocessing.normalize(price_1,axis=0)\n",
        "area_1=preprocessing.normalize(area_1,axis=0)\n",
        "col=data_q1.columns\n",
        "data_q1=data_q1.to_numpy()\n",
        "for i in range(0,len(data_q1)):\n",
        "    data_q1[i][0]=price_1[i][0]\n",
        "for i in range(0,len(data_q1)):\n",
        "    data_q1[i][1]=area_1[i][0]\n",
        "data_q1=pd.DataFrame(data_q1,columns=col)\n"
      ],
      "metadata": {
        "id": "1o5UoZw0v9sl"
      },
      "execution_count": 3,
      "outputs": []
    },
    {
      "cell_type": "code",
      "source": [
        "def encode_data(data):\n",
        "    y=data.columns\n",
        "    for i in y:\n",
        "        if(type(data[i][0])==type(\"2\")):\n",
        "            x=encode.fit_transform(data[i])\n",
        "            data[i]=x\n",
        "\n",
        "    return(data)\n",
        "data_q1=encode_data(data_q1)\n",
        "def split_data_(data,frac_training,frac_testing):\n",
        "    training_data = data.sample(frac = frac_training)\n",
        "    testing_data= data.drop(training_data.index)\n",
        "    return(training_data,testing_data)\n",
        "\n",
        "training_data_q1,testing_data_q1=split_data_(data_q1,0.75,0.25)\n",
        "\n",
        "x_train_1=training_data_q1.drop(columns='price')\n",
        "y_train_1=training_data_q1[['price']]\n",
        "x_test_1=testing_data_q1.drop(columns='price')\n",
        "y_test_1=testing_data_q1[['price']]\n"
      ],
      "metadata": {
        "id": "JXYA43fDP79g"
      },
      "execution_count": 4,
      "outputs": []
    },
    {
      "cell_type": "markdown",
      "source": [
        "1) Using simple decision tree regressor"
      ],
      "metadata": {
        "id": "rnp8dLqIOV2U"
      }
    },
    {
      "cell_type": "code",
      "source": [
        "dtr=DTR()\n",
        "dtr.fit(x_train_1,y_train_1)\n",
        "pred_1=dtr.predict(x_test_1)\n",
        "print(mse(pred_1,y_test_1))\n",
        "print(dtr.score(x_test_1,y_test_1))"
      ],
      "metadata": {
        "colab": {
          "base_uri": "https://localhost:8080/"
        },
        "id": "CSsHnK_OOT0M",
        "outputId": "c29a6332-cd51-4a9a-82e3-21e503420b02"
      },
      "execution_count": 5,
      "outputs": [
        {
          "output_type": "stream",
          "name": "stdout",
          "text": [
            "0.00014076230467295983\n",
            "0.26197257762201365\n"
          ]
        }
      ]
    },
    {
      "cell_type": "markdown",
      "source": [
        "2) finding max_depth from cross validation"
      ],
      "metadata": {
        "id": "N-ANxODkYHqw"
      }
    },
    {
      "cell_type": "code",
      "source": [
        "dataset1_q1= data_q1.sample(frac=0.2)\n",
        "t1_q1= data_q1.drop(dataset1_q1.index)\n",
        "\n",
        "dataset2_q1= t1_q1.sample(frac=0.25)\n",
        "t2_q1= t1_q1.drop(dataset2_q1.index)\n",
        "\n",
        "dataset3_q1= t2_q1.sample(frac=1/3)\n",
        "t3_q1= t2_q1.drop(dataset3_q1.index)\n",
        "\n",
        "dataset4_q1= t3_q1.sample(frac=0.5)\n",
        "dataset5_q1= t3_q1.drop(dataset4_q1.index)"
      ],
      "metadata": {
        "id": "uGgD_0QUYG5g"
      },
      "execution_count": 6,
      "outputs": []
    },
    {
      "cell_type": "code",
      "source": [
        "from sklearn.metrics import r2_score\n",
        "max_accu=[]\n",
        "\n",
        "for depth_max in range(2,8):\n",
        "    x_test=dataset1_q1.drop(columns='price')\n",
        "    y_test=dataset1_q1[['price']]\n",
        "    training_cv=data_q1.drop(dataset1_q1.index)\n",
        "    x_train=training_cv.drop(columns='price')\n",
        "    y_train=training_cv[['price']]\n",
        "    a=[]\n",
        "    dtr_1=DTR(max_depth=depth_max)\n",
        "    dtr_1.fit(x_train,y_train)\n",
        "    y_pred=dtr_1.predict(x_test)\n",
        "    \n",
        "    accu=r2_score(y_test,y_pred)\n",
        "    a.append(accu)\n",
        "\n",
        "\n",
        "    x_test=dataset2_q1.drop(columns='price')\n",
        "    y_test=dataset2_q1[['price']]\n",
        "    training_cv=data_q1.drop(dataset2_q1.index)\n",
        "    x_train=training_cv.drop(columns='price')\n",
        "    y_train=training_cv[['price']]\n",
        "    # y_test=testing_cv['price']\n",
        "    dtr_1=DTR(max_depth=depth_max)\n",
        "    dtr_1.fit(x_train,y_train)\n",
        "    y_pred=dtr_1.predict(x_test)\n",
        "    accu=r2_score(y_test,y_pred)\n",
        "    a.append(accu)\n",
        "\n",
        "    x_test=dataset3_q1.drop(columns='price')\n",
        "    y_test=dataset3_q1[['price']]\n",
        "    training_cv=data_q1.drop(dataset3_q1.index)\n",
        "    x_train=training_cv.drop(columns='price')\n",
        "    y_train=training_cv[['price']]\n",
        "    # y_test=testing_cv['price']\n",
        "    dtr_1=DTR(max_depth=depth_max)\n",
        "    dtr_1.fit(x_train,y_train)\n",
        "    y_pred=dtr_1.predict(x_test)\n",
        "    accu=r2_score(y_test,y_pred)\n",
        "    a.append(accu)\n",
        "\n",
        "    x_test=dataset4_q1.drop(columns='price')\n",
        "    y_test=dataset4_q1[['price']]\n",
        "    training_cv=data_q1.drop(dataset4_q1.index)\n",
        "    x_train=training_cv.drop(columns='price')\n",
        "    y_train=training_cv[['price']]\n",
        "    # y_test=testing_cv['price']\n",
        "    dtr_1=DTR(max_depth=depth_max)\n",
        "    dtr_1.fit(x_train,y_train)\n",
        "    y_pred=dtr_1.predict(x_test)\n",
        "    accu=r2_score(y_test,y_pred)\n",
        "    a.append(accu)\n",
        "\n",
        "    x_test=dataset5_q1.drop(columns='price')\n",
        "    y_test=dataset5_q1[['price']]\n",
        "    training_cv=data_q1.drop(dataset5_q1.index)\n",
        "    x_train=training_cv.drop(columns='price')\n",
        "    y_train=training_cv[['price']]\n",
        "    # y_test=testing_cv['price']\n",
        "    dtr_1=DTR(max_depth=depth_max)\n",
        "    dtr_1.fit(x_train,y_train)\n",
        "    y_pred=dtr_1.predict(x_test)\n",
        "    accu=r2_score(y_test,y_pred)\n",
        "    a.append(accu)\n",
        "    avg_accu=sum(a)/len(a)\n",
        "    max_accu.append(avg_accu)\n",
        "\n",
        "best_max_depth=np.argmax(max_accu)+2\n",
        "print(\"Best max_depth is \",best_max_depth)"
      ],
      "metadata": {
        "colab": {
          "base_uri": "https://localhost:8080/"
        },
        "id": "gGAYGNWrYmmf",
        "outputId": "39bfb35c-1f94-492c-8d6b-4e82ef9d27ac"
      },
      "execution_count": 7,
      "outputs": [
        {
          "output_type": "stream",
          "name": "stdout",
          "text": [
            "Best max_depth is  3\n"
          ]
        }
      ]
    },
    {
      "cell_type": "markdown",
      "source": [
        "3) Visualizing result"
      ],
      "metadata": {
        "id": "MnkZZg65AwsY"
      }
    },
    {
      "cell_type": "code",
      "source": [
        "import matplotlib.pyplot as plt\n",
        "plt.bar([i for i in range(2,8)],max_accu)\n",
        "plt.xlabel(\"Max_Depth\")\n",
        "plt.ylabel(\"Average R2_score\")\n",
        "plt.show()"
      ],
      "metadata": {
        "colab": {
          "base_uri": "https://localhost:8080/",
          "height": 280
        },
        "id": "TKL3qX0297Aa",
        "outputId": "2231f634-d8ee-4ea2-fa12-59ee0ed37f4a"
      },
      "execution_count": 8,
      "outputs": [
        {
          "output_type": "display_data",
          "data": {
            "image/png": "[encoded data removed]",
            "text/plain": [
              "<Figure size 432x288 with 1 Axes>"
            ]
          },
          "metadata": {
            "needs_background": "light"
          }
        }
      ]
    },
    {
      "cell_type": "markdown",
      "source": [
        "4) Bagging"
      ],
      "metadata": {
        "id": "yk5NRvV0dkJc"
      }
    },
    {
      "cell_type": "code",
      "source": [
        "training_set_1 = training_data_q1.sample(n=350,replace=False)\n",
        "x_train_1=training_set_1.drop(columns='price')\n",
        "y_train_1=training_set_1[['price']]\n",
        "\n",
        "training_set_2 = training_data_q1.sample(n=350,replace=False)\n",
        "x_train_2=training_set_2.drop(columns='price')\n",
        "y_train_2=training_set_2[['price']]\n",
        "\n",
        "training_set_3 = training_data_q1.sample(n=350,replace=False)\n",
        "x_train_3=training_set_3.drop(columns='price')\n",
        "y_train_3=training_set_3[['price']]\n",
        "\n",
        "training_set_4 = training_data_q1.sample(n=350,replace=False)\n",
        "x_train_4=training_set_4.drop(columns='price')\n",
        "y_train_4=training_set_4[['price']]\n",
        "\n",
        "training_set_5 = training_data_q1.sample(n=350,replace=False)\n",
        "x_train_5=training_set_5.drop(columns='price')\n",
        "y_train_5=training_set_5[['price']]\n",
        "\n",
        "training_set_6 = training_data_q1.sample(n=350,replace=False)\n",
        "x_train_6=training_set_6.drop(columns='price')\n",
        "y_train_6=training_set_6[['price']]\n",
        "\n",
        "training_set_7 = training_data_q1.sample(n=350,replace=False)\n",
        "x_train_7=training_set_7.drop(columns='price')\n",
        "y_train_7=training_set_7[['price']]\n",
        "\n",
        "training_set_8 = training_data_q1.sample(n=350,replace=False)\n",
        "x_train_8=training_set_8.drop(columns='price')\n",
        "y_train_8=training_set_8[['price']]\n",
        "\n",
        "training_set_9 = training_data_q1.sample(n=350,replace=False)\n",
        "x_train_9=training_set_9.drop(columns='price')\n",
        "y_train_9=training_set_9[['price']]\n",
        "\n",
        "training_set_10 = training_data_q1.sample(n=350,replace=False)\n",
        "x_train_10=training_set_10.drop(columns='price')\n",
        "y_train_10=training_set_10[['price']]"
      ],
      "metadata": {
        "id": "60OT6A9qIt0x"
      },
      "execution_count": 30,
      "outputs": []
    },
    {
      "cell_type": "markdown",
      "source": [
        "5) training dtr on training sets"
      ],
      "metadata": {
        "id": "gkESaBvOfCEe"
      }
    },
    {
      "cell_type": "code",
      "source": [
        "dtr_1=DTR()\n",
        "dtr_1.fit(x_train_1,y_train_1)\n",
        "\n",
        "dtr_2=DTR()\n",
        "dtr_2.fit(x_train_2,y_train_2)\n",
        "\n",
        "dtr_3=DTR()\n",
        "dtr_3.fit(x_train_3,y_train_3)\n",
        "\n",
        "dtr_4=DTR()\n",
        "dtr_4.fit(x_train_4,y_train_4)\n",
        "\n",
        "dtr_5=DTR()\n",
        "dtr_5.fit(x_train_5,y_train_5)\n",
        "\n",
        "dtr_6=DTR()\n",
        "dtr_6.fit(x_train_6,y_train_6)\n",
        "\n",
        "dtr_7=DTR()\n",
        "dtr_7.fit(x_train_7,y_train_7)\n",
        "\n",
        "dtr_8=DTR()\n",
        "dtr_8.fit(x_train_8,y_train_8)\n",
        "\n",
        "dtr_9=DTR()\n",
        "dtr_9.fit(x_train_9,y_train_9)\n",
        "\n",
        "dtr_10=DTR()\n",
        "dtr_10.fit(x_train_10,y_train_10)"
      ],
      "metadata": {
        "colab": {
          "base_uri": "https://localhost:8080/"
        },
        "id": "AQxShl_H7mcC",
        "outputId": "3a25c23b-2115-49bc-a6fe-6a8bf69936ae"
      },
      "execution_count": 31,
      "outputs": [
        {
          "output_type": "execute_result",
          "data": {
            "text/plain": [
              "DecisionTreeRegressor()"
            ]
          },
          "metadata": {},
          "execution_count": 31
        }
      ]
    },
    {
      "cell_type": "markdown",
      "source": [
        "6)"
      ],
      "metadata": {
        "id": "bcalNRomBfL3"
      }
    },
    {
      "cell_type": "code",
      "source": [
        "from sklearn.metrics import r2_score\n",
        "\n",
        "predict_1=dtr_1.predict(x_test_1)\n",
        "predict_2=dtr_2.predict(x_test_1)\n",
        "predict_3=dtr_3.predict(x_test_1)\n",
        "predict_4=dtr_4.predict(x_test_1)\n",
        "predict_5=dtr_5.predict(x_test_1)\n",
        "predict_6=dtr_6.predict(x_test_1)\n",
        "predict_7=dtr_7.predict(x_test_1)\n",
        "predict_8=dtr_8.predict(x_test_1)\n",
        "predict_9=dtr_9.predict(x_test_1)\n",
        "predict_10=dtr_10.predict(x_test_1)\n",
        "\n",
        "score=[]\n",
        "score.append(r2_score(y_test_1,predict_1))\n",
        "score.append(r2_score(y_test_1,predict_2))\n",
        "score.append(r2_score(y_test_1,predict_3))\n",
        "score.append(r2_score(y_test_1,predict_4))\n",
        "score.append(r2_score(y_test_1,predict_5))\n",
        "score.append(r2_score(y_test_1,predict_6))\n",
        "score.append(r2_score(y_test_1,predict_7))\n",
        "score.append(r2_score(y_test_1,predict_8))\n",
        "score.append(r2_score(y_test_1,predict_9))\n",
        "score.append(r2_score(y_test_1,predict_10))\n",
        "print(\"Performance of each decision tree regressor is \",score)\n",
        "print(\"Average r2_score of decision tree regressor is \",sum(score)/10)\n",
        "\n",
        "plt.bar([i for i in range(1,11)],score)\n",
        "plt.xlabel(\"Bag no.\")\n",
        "plt.ylabel(\"R2 Score\")\n",
        "plt.show()"
      ],
      "metadata": {
        "colab": {
          "base_uri": "https://localhost:8080/",
          "height": 333
        },
        "id": "Q3w6fuZM7hR4",
        "outputId": "49905108-b251-4407-e553-5b4e4cd57e03"
      },
      "execution_count": 32,
      "outputs": [
        {
          "output_type": "stream",
          "name": "stdout",
          "text": [
            "Performance of each decision tree regressor is  [0.20058511337633322, 0.1859650695189825, 0.33607609338972333, 0.36072844753880706, 0.0029023526645590714, 0.2658404539787369, 0.2819012039475425, 0.22053129267973393, 0.29930948710232386, 0.23332026013131024]\n",
            "Average r2_score of decision tree regressor is  0.2387159774328053\n"
          ]
        },
        {
          "output_type": "display_data",
          "data": {
            "image/png": "[encoded data removed]",
            "text/plain": [
              "<Figure size 432x288 with 1 Axes>"
            ]
          },
          "metadata": {
            "needs_background": "light"
          }
        }
      ]
    },
    {
      "cell_type": "markdown",
      "source": [
        "9)"
      ],
      "metadata": {
        "id": "Nc4DxLEkBhXW"
      }
    },
    {
      "cell_type": "code",
      "source": [
        "from sklearn.ensemble import RandomForestRegressor \n",
        "rfr_reg = RandomForestRegressor(n_estimators=100)\n",
        "rfr_reg.fit(x_train_1,y_train_1.values.ravel())\n",
        "pred_rfr=rfr_reg.predict(x_test_1)\n",
        "print(\"Mean Sqaure Error of RandomForestRegressor is\",mse(y_test_1,pred_rfr))\n",
        "print(\"Mean Absolute Error of RandomForestRegressor is\",mae(y_test_1,pred_rfr))"
      ],
      "metadata": {
        "colab": {
          "base_uri": "https://localhost:8080/"
        },
        "id": "Wng49-eLEraX",
        "outputId": "87b3d14f-9079-43ee-9615-18f978c34bab"
      },
      "execution_count": 12,
      "outputs": [
        {
          "output_type": "stream",
          "name": "stdout",
          "text": [
            "Mean Sqaure Error of RandomForestRegressor is 7.394424750702336e-05\n",
            "Mean Absolute Error of RandomForestRegressor is 0.006217108089079731\n"
          ]
        }
      ]
    },
    {
      "cell_type": "markdown",
      "source": [
        "10)"
      ],
      "metadata": {
        "id": "Ln72LBoMBqUH"
      }
    },
    {
      "cell_type": "code",
      "source": [
        "from sklearn.ensemble import AdaBoostRegressor\n",
        "ada_reg = AdaBoostRegressor(n_estimators=100)\n",
        "ada_reg.fit(x_train_1, y_train_1.values.ravel())\n",
        "pred_ada=ada_reg.predict(x_test_1)\n",
        "print(\"Mean Sqaure Error of AdaBoostRegressor is\",mse(y_test_1,pred_ada))\n",
        "print(\"Mean Absolute Error of AdaBoostRegressor is\",mae(y_test_1,pred_ada))"
      ],
      "metadata": {
        "colab": {
          "base_uri": "https://localhost:8080/"
        },
        "id": "sMlyghsrBp-m",
        "outputId": "713e11b4-c702-4afc-e53a-10f45cd1a20e"
      },
      "execution_count": 13,
      "outputs": [
        {
          "output_type": "stream",
          "name": "stdout",
          "text": [
            "Mean Sqaure Error of AdaBoostRegressor is 9.147698500037634e-05\n",
            "Mean Absolute Error of AdaBoostRegressor is 0.007524917144172328\n"
          ]
        }
      ]
    },
    {
      "cell_type": "markdown",
      "source": [
        "Q2 Breast Cancer\n"
      ],
      "metadata": {
        "id": "shdQyZ3WQLZM"
      }
    },
    {
      "cell_type": "markdown",
      "source": [
        "1) Making Decision tree classifier"
      ],
      "metadata": {
        "id": "VwFGRnyK1Tbu"
      }
    },
    {
      "cell_type": "code",
      "source": [
        "data_q2=pd.read_csv('/content/drive/MyDrive/Lab-3 ML/Breast_cancer_data.csv');\n",
        "data_q2=data_q2.dropna()\n",
        "def split_data(data,frac_training,frac_testing):\n",
        "    training_data = data.sample(frac = frac_training)\n",
        "    testing_data= data.drop(training_data.index)\n",
        "    return(training_data,testing_data)\n",
        "\n",
        "training_data_q2,testing_data_q2=split_data(data_q2,0.75,0.25)"
      ],
      "metadata": {
        "id": "hqJvwr3tQMnj"
      },
      "execution_count": 14,
      "outputs": []
    },
    {
      "cell_type": "code",
      "source": [
        "def total_accuracy(predicted_diagnosis,actual_diagnosis):\n",
        "    correct_prediction=0\n",
        "    for i in range(0,len(predicted_diagnosis)):\n",
        "        if(predicted_diagnosis[i]==actual_diagnosis[i]):\n",
        "            correct_prediction+=1\n",
        "    # print(\"Accuracy is \",(correct_prediction*100)/len(predicted_diagnosis),\" %\")\n",
        "    return((correct_prediction*100)/len(predicted_diagnosis))"
      ],
      "metadata": {
        "id": "1__SE7g9TLvk"
      },
      "execution_count": 15,
      "outputs": []
    },
    {
      "cell_type": "code",
      "source": [
        "x_training=training_data_q2.drop(columns='diagnosis')\n",
        "y_training=training_data_q2[['diagnosis']]\n",
        "x_testing=testing_data_q2.drop(columns='diagnosis')\n",
        "y_testing=testing_data_q2[['diagnosis']]"
      ],
      "metadata": {
        "id": "Y8VKD5TxUr7C"
      },
      "execution_count": 16,
      "outputs": []
    },
    {
      "cell_type": "code",
      "source": [
        "from sklearn.tree import DecisionTreeClassifier as DTC\n",
        "dtc=DTC()\n",
        "dtc.fit(x_training,y_training)\n",
        "dtc_predict=dtc.predict(x_testing)\n",
        "print(total_accuracy(list(dtc_predict),list(y_testing['diagnosis'])))"
      ],
      "metadata": {
        "colab": {
          "base_uri": "https://localhost:8080/"
        },
        "id": "zr_yNkchpMt_",
        "outputId": "e23a8f11-8c66-40d2-cb9f-5c3a7e0d7149"
      },
      "execution_count": 17,
      "outputs": [
        {
          "output_type": "stream",
          "name": "stdout",
          "text": [
            "88.02816901408451\n"
          ]
        }
      ]
    },
    {
      "cell_type": "markdown",
      "source": [
        "2) finding max_depth from cross validation"
      ],
      "metadata": {
        "id": "-bFb0-Og2kg7"
      }
    },
    {
      "cell_type": "code",
      "source": [
        "dataset1_q2= data_q2.sample(frac=0.2)\n",
        "t1_q2= data_q2.drop(dataset1_q2.index)\n",
        "\n",
        "dataset2_q2= t1_q2.sample(frac=0.25)\n",
        "t2_q2= t1_q2.drop(dataset2_q2.index)\n",
        "\n",
        "dataset3_q2= t2_q2.sample(frac=1/3)\n",
        "t3_q2= t2_q2.drop(dataset3_q2.index)\n",
        "\n",
        "dataset4_q2= t3_q2.sample(frac=0.5)\n",
        "dataset5_q2= t3_q2.drop(dataset4_q2.index)\n"
      ],
      "metadata": {
        "id": "7z0zkRu5pJ1T"
      },
      "execution_count": 18,
      "outputs": []
    },
    {
      "cell_type": "code",
      "source": [
        "max_accu_2=[]\n",
        "for depth_max in range(2,8):\n",
        "    x_test=dataset1_q2.drop(columns='diagnosis')\n",
        "    y_test=dataset1_q2[['diagnosis']]\n",
        "    training_cv=data_q2.drop(dataset1_q2.index)\n",
        "    x_train=training_cv.drop(columns='diagnosis')\n",
        "    y_train=training_cv[['diagnosis']]\n",
        "    a=[]\n",
        "    dtc_1=DTC(max_depth=depth_max)\n",
        "    dtc_1.fit(x_train,y_train)\n",
        "    y_pred=dtc_1.predict(x_test)\n",
        "    accu=total_accuracy(list(y_pred),list(y_test['diagnosis']))\n",
        "    a.append(accu)\n",
        "\n",
        "\n",
        "    x_test=dataset2_q2.drop(columns='diagnosis')\n",
        "    y_test=dataset2_q2[['diagnosis']]\n",
        "    training_cv=data_q2.drop(dataset2_q2.index)\n",
        "    x_train=training_cv.drop(columns='diagnosis')\n",
        "    y_train=training_cv[['diagnosis']]\n",
        "    dtc_1=DTC(max_depth=depth_max)\n",
        "    dtc_1.fit(x_train,y_train)\n",
        "    y_pred=dtc_1.predict(x_test)\n",
        "    accu=total_accuracy(list(y_pred),list(y_test['diagnosis']))\n",
        "    a.append(accu)\n",
        "\n",
        "    x_test=dataset3_q2.drop(columns='diagnosis')\n",
        "    y_test=dataset3_q2[['diagnosis']]\n",
        "    training_cv=data_q2.drop(dataset3_q2.index)\n",
        "    x_train=training_cv.drop(columns='diagnosis')\n",
        "    y_train=training_cv[['diagnosis']]\n",
        "    dtc_1=DTC(max_depth=depth_max)\n",
        "    dtc_1.fit(x_train,y_train)\n",
        "    y_pred=dtc_1.predict(x_test)\n",
        "    accu=total_accuracy(list(y_pred),list(y_test['diagnosis']))\n",
        "    a.append(accu)\n",
        "\n",
        "    x_test=dataset4_q2.drop(columns='diagnosis')\n",
        "    y_test=dataset4_q2[['diagnosis']]\n",
        "    training_cv=data_q2.drop(dataset4_q2.index)\n",
        "    x_train=training_cv.drop(columns='diagnosis')\n",
        "    y_train=training_cv[['diagnosis']]\n",
        "    dtc_1=DTC(max_depth=depth_max)\n",
        "    dtc_1.fit(x_train,y_train)\n",
        "    y_pred=dtc_1.predict(x_test)\n",
        "    accu=total_accuracy(list(y_pred),list(y_test['diagnosis']))\n",
        "    a.append(accu)\n",
        "\n",
        "    x_test=dataset5_q2.drop(columns='diagnosis')\n",
        "    y_test=dataset5_q2[['diagnosis']]\n",
        "    training_cv=data_q2.drop(dataset5_q2.index)\n",
        "    x_train=training_cv.drop(columns='diagnosis')\n",
        "    y_train=training_cv[['diagnosis']]\n",
        "    dtc_1=DTC(max_depth=depth_max)\n",
        "    dtc_1.fit(x_train,y_train)\n",
        "    y_pred=dtc_1.predict(x_test)\n",
        "    accu=total_accuracy(list(y_pred),list(y_test['diagnosis']))\n",
        "    a.append(accu)\n",
        "    avg_accu=sum(a)/len(a)\n",
        "    max_accu_2.append(avg_accu)\n",
        "best_max_depth_2=np.argmax(max_accu_2)+2\n",
        "print(\"Best max_depth is \",best_max_depth_2)"
      ],
      "metadata": {
        "colab": {
          "base_uri": "https://localhost:8080/"
        },
        "id": "_2cNkbJRrzh9",
        "outputId": "58f2e57d-f11c-47ca-e6da-72b542c34394"
      },
      "execution_count": 19,
      "outputs": [
        {
          "output_type": "stream",
          "name": "stdout",
          "text": [
            "Best max_depth is  4\n"
          ]
        }
      ]
    },
    {
      "cell_type": "markdown",
      "source": [
        "3) Visualize the result"
      ],
      "metadata": {
        "id": "GOZuuAaP-0ho"
      }
    },
    {
      "cell_type": "code",
      "source": [
        "import matplotlib.pyplot as plt\n",
        "plt.bar([i for i in range(2,8)],max_accu_2)\n",
        "plt.xlabel(\"Max_Depth\")\n",
        "plt.ylabel(\"Average Accuracy\")\n",
        "plt.show()"
      ],
      "metadata": {
        "colab": {
          "base_uri": "https://localhost:8080/",
          "height": 280
        },
        "id": "Ym68Wak9-zyY",
        "outputId": "52c799a9-0de0-4ec5-eff0-c8cd54188503"
      },
      "execution_count": 20,
      "outputs": [
        {
          "output_type": "display_data",
          "data": {
            "image/png": "[encoded data removed]",
            "text/plain": [
              "<Figure size 432x288 with 1 Axes>"
            ]
          },
          "metadata": {
            "needs_background": "light"
          }
        }
      ]
    },
    {
      "cell_type": "markdown",
      "source": [
        "4) Implement XGBoost"
      ],
      "metadata": {
        "id": "A14NQxT_5NFY"
      }
    },
    {
      "cell_type": "code",
      "source": [
        "from xgboost import XGBClassifier as XGBC \n",
        "xgb_model=XGBC(max_depth=4,subsample=0.7) \n",
        "xgb_model.fit(x_training, y_training.values.ravel())"
      ],
      "metadata": {
        "id": "1-APund-Xr3z",
        "colab": {
          "base_uri": "https://localhost:8080/"
        },
        "outputId": "c559252c-9c2e-4dd8-abc9-9539c6fa0fe1"
      },
      "execution_count": 21,
      "outputs": [
        {
          "output_type": "execute_result",
          "data": {
            "text/plain": [
              "XGBClassifier(max_depth=4, subsample=0.7)"
            ]
          },
          "metadata": {},
          "execution_count": 21
        }
      ]
    },
    {
      "cell_type": "markdown",
      "source": [
        "5) Accuracy check on training and testing set"
      ],
      "metadata": {
        "id": "KKsKYcNN5IJK"
      }
    },
    {
      "cell_type": "code",
      "source": [
        "xgb_predict_train= xgb_model.predict( x_training )\n",
        "print(\"Accuracy on training set is \",total_accuracy(list(xgb_predict_train),list(y_training['diagnosis'])))\n",
        "xgb_predict_testing= xgb_model.predict( x_testing )\n",
        "print(\"Accuracy on testing set is \",total_accuracy(list(xgb_predict_testing),list(y_testing['diagnosis'])))"
      ],
      "metadata": {
        "colab": {
          "base_uri": "https://localhost:8080/"
        },
        "id": "VoBaIqTA5HB1",
        "outputId": "777b9680-a442-4229-9344-106cc3f8b1d0"
      },
      "execution_count": 22,
      "outputs": [
        {
          "output_type": "stream",
          "name": "stdout",
          "text": [
            "Accuracy on training set is  99.06323185011709\n",
            "Accuracy on testing set is  91.54929577464789\n"
          ]
        }
      ]
    },
    {
      "cell_type": "markdown",
      "source": [
        "6) Implementing LightGBM"
      ],
      "metadata": {
        "id": "_iLGS4g25yYe"
      }
    },
    {
      "cell_type": "code",
      "source": [
        "import lightgbm as lgb\n",
        "accu_lg=[]\n",
        "for leaves_num in range(2,10):\n",
        "    lgb_model=lgb.LGBMClassifier(max_depth=3,num_leaves=leaves_num)\n",
        "    lgb_model.fit(x_training,y_training.values.ravel())\n",
        "    lgb_predict= lgb_model.predict(x_testing)\n",
        "    accu_lg.append(total_accuracy(list(lgb_predict),list(y_testing['diagnosis'])))\n",
        "    print(\"Accuracy with num_leaves equal to \",leaves_num,\" is \",total_accuracy(list(lgb_predict),list(y_testing['diagnosis'])))\n",
        "plt.bar([i for i in range(2,10)],accu_lg)\n",
        "plt.xlabel(\"Num Leaves\")\n",
        "plt.ylabel(\"Accuracy\")\n",
        "plt.show()"
      ],
      "metadata": {
        "colab": {
          "base_uri": "https://localhost:8080/",
          "height": 417
        },
        "id": "JLWTMG4d5xjk",
        "outputId": "62f1d7ad-460b-46c9-bb00-7f64d4e577de"
      },
      "execution_count": 23,
      "outputs": [
        {
          "output_type": "stream",
          "name": "stdout",
          "text": [
            "Accuracy with num_leaves equal to  2  is  91.54929577464789\n",
            "Accuracy with num_leaves equal to  3  is  93.66197183098592\n",
            "Accuracy with num_leaves equal to  4  is  92.95774647887323\n",
            "Accuracy with num_leaves equal to  5  is  91.54929577464789\n",
            "Accuracy with num_leaves equal to  6  is  92.95774647887323\n",
            "Accuracy with num_leaves equal to  7  is  91.54929577464789\n",
            "Accuracy with num_leaves equal to  8  is  92.95774647887323\n",
            "Accuracy with num_leaves equal to  9  is  92.95774647887323\n"
          ]
        },
        {
          "output_type": "display_data",
          "data": {
            "image/png": "[encoded data removed]",
            "text/plain": [
              "<Figure size 432x288 with 1 Axes>"
            ]
          },
          "metadata": {
            "needs_background": "light"
          }
        }
      ]
    },
    {
      "cell_type": "markdown",
      "source": [
        "7) Analzing relation between max_depth and num_leaves"
      ],
      "metadata": {
        "id": "L9FDrG6MRu1q"
      }
    },
    {
      "cell_type": "code",
      "source": [
        "a=[]\n",
        "diff_list=[]\n",
        "for depth_max in range(2,8):\n",
        "  diff=0\n",
        "  leaf_no=0\n",
        "  for leaves_num in range(2,2**depth_max):\n",
        "    lgb_model=lgb.LGBMClassifier(max_depth=3,num_leaves=leaves_num)\n",
        "    lgb_model.fit(x_training,y_training.values.ravel())\n",
        "    lgb_predict= lgb_model.predict(x_testing)\n",
        "    accu_test=total_accuracy(list(lgb_predict),list(y_testing['diagnosis']))\n",
        "    lgb_predict_train= lgb_model.predict(x_training)\n",
        "    accu_train=total_accuracy(list(lgb_predict_train),list(y_training['diagnosis']))\n",
        "    if(accu_train-accu_test>diff):\n",
        "      diff=accu_train-accu_test\n",
        "      leaf_no=leaves_num\n",
        "  diff_list.append(diff)\n",
        "  a.append(leaf_no)"
      ],
      "metadata": {
        "id": "HJ-2Z83TVmk6"
      },
      "execution_count": 27,
      "outputs": []
    },
    {
      "cell_type": "code",
      "source": [
        "import matplotlib.pyplot as plt\n",
        "plt.bar([i for i in range(2,8)],a)\n",
        "plt.xlabel(\"Max_Depth\")\n",
        "plt.ylabel(\"Leaf number with max diff in testing and training accuracy\")\n",
        "plt.show()"
      ],
      "metadata": {
        "colab": {
          "base_uri": "https://localhost:8080/",
          "height": 326
        },
        "id": "HngWX2mXCYGF",
        "outputId": "46be6293-4742-4626-9988-0b72446ad355"
      },
      "execution_count": 28,
      "outputs": [
        {
          "output_type": "display_data",
          "data": {
            "image/png": "[encoded data removed]",
            "text/plain": [
              "<Figure size 432x288 with 1 Axes>"
            ]
          },
          "metadata": {
            "needs_background": "light"
          }
        }
      ]
    },
    {
      "cell_type": "code",
      "source": [
        "import matplotlib.pyplot as plt\n",
        "plt.bar([i for i in range(2,8)],diff_list)\n",
        "plt.xlabel(\"Max_Depth\")\n",
        "plt.ylabel(\"Max Differnce in testing and training accuracy\")\n",
        "plt.show()"
      ],
      "metadata": {
        "colab": {
          "base_uri": "https://localhost:8080/",
          "height": 288
        },
        "id": "4pbd0HIZXUJ0",
        "outputId": "4f952334-01ef-48e6-c6f0-c98da0e4cf0f"
      },
      "execution_count": 29,
      "outputs": [
        {
          "output_type": "display_data",
          "data": {
            "image/png": "[encoded data removed]",
            "text/plain": [
              "<Figure size 432x288 with 1 Axes>"
            ]
          },
          "metadata": {
            "needs_background": "light"
          }
        }
      ]
    }
  ]
}