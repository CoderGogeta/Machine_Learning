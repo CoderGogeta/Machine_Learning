{
  "nbformat": 4,
  "nbformat_minor": 0,
  "metadata": {
    "colab": {
      "name": "Lab_4.ipynb",
      "provenance": [],
      "collapsed_sections": []
    },
    "kernelspec": {
      "name": "python3",
      "display_name": "Python 3"
    },
    "language_info": {
      "name": "python"
    }
  },
  "cells": [
    {
      "cell_type": "code",
      "execution_count": 975,
      "metadata": {
        "id": "LmTsPiU5rViL",
        "outputId": "dc2ceaba-eeaa-4505-99d0-86d96407edec",
        "colab": {
          "base_uri": "https://localhost:8080/"
        }
      },
      "outputs": [
        {
          "output_type": "stream",
          "name": "stdout",
          "text": [
            "Drive already mounted at /content/drive/; to attempt to forcibly remount, call drive.mount(\"/content/drive/\", force_remount=True).\n"
          ]
        }
      ],
      "source": [
        "from google.colab import drive\n",
        "drive.mount('/content/drive/')"
      ]
    },
    {
      "cell_type": "code",
      "source": [
        "import numpy as np\n",
        "import matplotlib.pyplot as plt\n",
        "import pandas as pd\n",
        "from sklearn.model_selection import train_test_split\n",
        "from sklearn.tree import DecisionTreeRegressor as DTR\n",
        "from sklearn.metrics import mean_squared_error as mse\n",
        "from sklearn.metrics import mean_absolute_error as mae\n",
        "from sklearn import tree\n",
        "from sklearn.preprocessing import LabelEncoder\n",
        "from sklearn import preprocessing\n",
        "encode = LabelEncoder()"
      ],
      "metadata": {
        "id": "BNDfMBkd21nr"
      },
      "execution_count": 976,
      "outputs": []
    },
    {
      "cell_type": "code",
      "source": [
        "import matplotlib.pyplot as plt\n",
        "import warnings\n",
        "import seaborn as sns\n",
        "warnings.filterwarnings('ignore')"
      ],
      "metadata": {
        "id": "wq7RNFAj-42x"
      },
      "execution_count": 977,
      "outputs": []
    },
    {
      "cell_type": "code",
      "source": [
        "from sklearn.naive_bayes import MultinomialNB as MNB"
      ],
      "metadata": {
        "id": "Wlxm4ypwKelg"
      },
      "execution_count": 978,
      "outputs": []
    },
    {
      "cell_type": "markdown",
      "source": [
        "# **Q1**"
      ],
      "metadata": {
        "id": "ppTsx7SWevJg"
      }
    },
    {
      "cell_type": "code",
      "source": [
        "data_1=pd.read_csv('/content/drive/MyDrive/PRML Lab 4/titanic.csv')"
      ],
      "metadata": {
        "id": "ufaUfDsceyPs"
      },
      "execution_count": 979,
      "outputs": []
    },
    {
      "cell_type": "code",
      "source": [
        "data_1.columns"
      ],
      "metadata": {
        "colab": {
          "base_uri": "https://localhost:8080/"
        },
        "id": "As4xKcI2uSpq",
        "outputId": "b6807b4c-dd8a-4540-f6cb-01058086608b"
      },
      "execution_count": 980,
      "outputs": [
        {
          "output_type": "execute_result",
          "data": {
            "text/plain": [
              "Index(['PassengerId', 'Name', 'Pclass', 'Sex', 'Age', 'Ticket', 'Fare',\n",
              "       'Cabin', 'Embarked', 'Survived'],\n",
              "      dtype='object')"
            ]
          },
          "metadata": {},
          "execution_count": 980
        }
      ]
    },
    {
      "cell_type": "markdown",
      "source": [
        "1) Data pre-processing"
      ],
      "metadata": {
        "id": "J8crU0QLE5Jc"
      }
    },
    {
      "cell_type": "code",
      "source": [
        "data_1=data_1.drop(columns=['PassengerId', 'Name', 'Age','Ticket', 'Fare','Cabin'])"
      ],
      "metadata": {
        "id": "vKEZY1B6fdv6"
      },
      "execution_count": 981,
      "outputs": []
    },
    {
      "cell_type": "code",
      "source": [
        "# data_1.columns\n",
        "data_1.info()"
      ],
      "metadata": {
        "id": "-YvLQiMke60A",
        "colab": {
          "base_uri": "https://localhost:8080/"
        },
        "outputId": "b862728b-9231-4023-f290-109679562ebb"
      },
      "execution_count": 982,
      "outputs": [
        {
          "output_type": "stream",
          "name": "stdout",
          "text": [
            "<class 'pandas.core.frame.DataFrame'>\n",
            "RangeIndex: 891 entries, 0 to 890\n",
            "Data columns (total 4 columns):\n",
            " #   Column    Non-Null Count  Dtype \n",
            "---  ------    --------------  ----- \n",
            " 0   Pclass    891 non-null    int64 \n",
            " 1   Sex       891 non-null    object\n",
            " 2   Embarked  889 non-null    object\n",
            " 3   Survived  891 non-null    int64 \n",
            "dtypes: int64(2), object(2)\n",
            "memory usage: 28.0+ KB\n"
          ]
        }
      ]
    },
    {
      "cell_type": "code",
      "source": [
        "data_1=data_1.dropna()\n",
        "data_1.info()"
      ],
      "metadata": {
        "colab": {
          "base_uri": "https://localhost:8080/"
        },
        "id": "gXv-Zwpku36O",
        "outputId": "3bd541b4-bea5-494b-a540-926ef5bc35fc"
      },
      "execution_count": 983,
      "outputs": [
        {
          "output_type": "stream",
          "name": "stdout",
          "text": [
            "<class 'pandas.core.frame.DataFrame'>\n",
            "Int64Index: 889 entries, 0 to 890\n",
            "Data columns (total 4 columns):\n",
            " #   Column    Non-Null Count  Dtype \n",
            "---  ------    --------------  ----- \n",
            " 0   Pclass    889 non-null    int64 \n",
            " 1   Sex       889 non-null    object\n",
            " 2   Embarked  889 non-null    object\n",
            " 3   Survived  889 non-null    int64 \n",
            "dtypes: int64(2), object(2)\n",
            "memory usage: 34.7+ KB\n"
          ]
        }
      ]
    },
    {
      "cell_type": "code",
      "source": [
        "def encode_data(data):\n",
        "    y=data.columns\n",
        "    for i in y:\n",
        "        if(type(data[i][0])==type(\"2\")):\n",
        "            x=encode.fit_transform(data[i])\n",
        "            data[i]=x\n",
        "\n",
        "    return(data)\n",
        "data_1=encode_data(data_1)"
      ],
      "metadata": {
        "id": "J1Zoiyvif11m"
      },
      "execution_count": 984,
      "outputs": []
    },
    {
      "cell_type": "code",
      "source": [
        "def split_data(data,frac_training,frac_testing):\n",
        "    training_data = data.sample(frac = frac_training)\n",
        "    testing_data= data.drop(training_data.index)\n",
        "    return(training_data,testing_data)\n",
        "\n",
        "training_data_1,testing_data_1=split_data(data_1,0.75,0.25)"
      ],
      "metadata": {
        "id": "sGUwsT2hCHa2"
      },
      "execution_count": 985,
      "outputs": []
    },
    {
      "cell_type": "markdown",
      "source": [
        "3) Implementing classifier from scratch "
      ],
      "metadata": {
        "id": "4opxDRVqFAje"
      }
    },
    {
      "cell_type": "code",
      "source": [
        "def classwise_classifier(data,target):\n",
        "    a={}\n",
        "    col=list(data.columns)\n",
        "    for j in range(0,len(col)):\n",
        "        # if(j!=target):\n",
        "            a[j]={}\n",
        "            temp=np.unique(data[col[j]],return_counts=True)\n",
        "            for k in range(0,len(temp[0])):\n",
        "                a[j][temp[0][k]]=temp[1][k]\n",
        "    return(a)\n",
        "def nb_classifier(data,target):\n",
        "    element=np.unique(data[target])\n",
        "    classi={}\n",
        "    for i in element:\n",
        "        sub_data=data.where(data[target]==i).dropna()\n",
        "        sub_data=sub_data.drop(columns=target)\n",
        "        a=classwise_classifier(sub_data,target)\n",
        "        \n",
        "        classi[i]=a\n",
        "    return(classi)"
      ],
      "metadata": {
        "id": "m1hu532ExIG-"
      },
      "execution_count": 986,
      "outputs": []
    },
    {
      "cell_type": "code",
      "source": [
        "def prior_calcul(data,target):\n",
        "    element,count=np.unique(data[target],return_counts=True)\n",
        "    lost={}\n",
        "    for i in range(0,len(element)):\n",
        "        lost[element[i]]=count[i]/np.sum(count)\n",
        "    return(lost)"
      ],
      "metadata": {
        "id": "P9JmilEN-6Gz"
      },
      "execution_count": 987,
      "outputs": []
    },
    {
      "cell_type": "code",
      "source": [
        "def individual_prediction(data,classifier,target,prior_list):\n",
        "    predict=0\n",
        "    max_val=0\n",
        "    element=np.unique(target)\n",
        "    for i in element:\n",
        "        val=prior_list[i] # later initialization to be changed to probability of class\n",
        "        a=classifier[i]\n",
        "        for j in range(0,len(data)): # for every feature\n",
        "            if(data[j] in a[j].keys()):\n",
        "                condi_prob_xj=(a[j][data[j]])/sum(a[j].values())\n",
        "            else:\n",
        "                condi_prob_xj=0\n",
        "            val=val*condi_prob_xj\n",
        "        if(max_val<=val):\n",
        "          predict=i\n",
        "          max_val=val\n",
        "    return(predict)\n",
        "def prediction(data,classifier,target,prior_list):\n",
        "    converted_data=data.to_numpy()\n",
        "    predict_list=[]\n",
        "    for i in range(0,len(converted_data)):\n",
        "        predict_list.append(individual_prediction(converted_data[i],classifier,target,prior_list))\n",
        "    return(predict_list)"
      ],
      "metadata": {
        "id": "wsCX7hbr4JO2"
      },
      "execution_count": 988,
      "outputs": []
    },
    {
      "cell_type": "code",
      "source": [
        "def accuracy(predicted,actual):\n",
        "    correct_prediction=0\n",
        "    for i in range(0,len(predicted)):\n",
        "        if(predicted[i]==actual[i]):\n",
        "            correct_prediction+=1\n",
        "    return((correct_prediction*100)/len(predicted))\n"
      ],
      "metadata": {
        "id": "UMdFCJQLBdjE"
      },
      "execution_count": 989,
      "outputs": []
    },
    {
      "cell_type": "markdown",
      "source": [
        "4) Cross validation"
      ],
      "metadata": {
        "id": "htYTa2ciFC_D"
      }
    },
    {
      "cell_type": "code",
      "source": [
        "def k_fold_cross_validation(data,k=5):\n",
        "    cv_score=0\n",
        "    accu=[]\n",
        "    data_left=data\n",
        "    for i in range(0,k):\n",
        "        train=data_left.sample(frac=1/(k-i)) \n",
        "        data_left=data_left.drop(train.index)\n",
        "        test=data.drop(train.index)\n",
        "\n",
        "        classifier=nb_classifier(train,'Survived')\n",
        "        prior_list=prior_calcul(train,'Survived')\n",
        "\n",
        "        actual=list(test['Survived'])\n",
        "        x_test=test.drop(columns='Survived')\n",
        "\n",
        "        pred=prediction(x_test,classifier,[0,1],prior_list)\n",
        "        cv_score+=accuracy(pred,actual)\n",
        "        accu.append(accuracy(pred,actual))\n",
        "    return(cv_score/k,accu)"
      ],
      "metadata": {
        "id": "Ih31S7VgE1nE"
      },
      "execution_count": 990,
      "outputs": []
    },
    {
      "cell_type": "code",
      "source": [
        "cv_score_1,individual_accuracy=k_fold_cross_validation(training_data_1,5)\n",
        "print(cv_score_1)"
      ],
      "metadata": {
        "colab": {
          "base_uri": "https://localhost:8080/"
        },
        "id": "uNgF-aidHdNf",
        "outputId": "844638a3-dd08-4509-c9b3-790588e9d834"
      },
      "execution_count": 991,
      "outputs": [
        {
          "output_type": "stream",
          "name": "stdout",
          "text": [
            "78.224803423488\n"
          ]
        }
      ]
    },
    {
      "cell_type": "markdown",
      "source": [
        "5) Visualizing cross validation and printing top class for testing data"
      ],
      "metadata": {
        "id": "h1C2yAH1RJWT"
      }
    },
    {
      "cell_type": "code",
      "source": [
        "plt.bar([i for i in range(1,6)],individual_accuracy)\n",
        "plt.xlabel('Kth Fold of Cross-validation')\n",
        "plt.ylabel('Accuracy')\n",
        "plt.show()"
      ],
      "metadata": {
        "colab": {
          "base_uri": "https://localhost:8080/",
          "height": 279
        },
        "id": "NuRYCizJIAKe",
        "outputId": "98b14002-6e66-434e-83b3-8f787db13ba2"
      },
      "execution_count": 992,
      "outputs": [
        {
          "output_type": "display_data",
          "data": {
            "image/png": "[encoded data removed]",
            "text/plain": [
              "<Figure size 432x288 with 1 Axes>"
            ]
          },
          "metadata": {
            "needs_background": "light"
          }
        }
      ]
    },
    {
      "cell_type": "code",
      "source": [
        "classifier_1=nb_classifier(training_data_1,'Survived')"
      ],
      "metadata": {
        "id": "I_2AHap5AStL"
      },
      "execution_count": 993,
      "outputs": []
    },
    {
      "cell_type": "code",
      "source": [
        "prior_list=prior_calcul(training_data_1,'Survived')"
      ],
      "metadata": {
        "id": "m8_TfM68AsBD"
      },
      "execution_count": 994,
      "outputs": []
    },
    {
      "cell_type": "code",
      "source": [
        "def individual_prediction_part5(data,classifier,target,prior_list):\n",
        "    predict=0\n",
        "    max_val=0\n",
        "    element=np.unique(target)\n",
        "    for i in element:\n",
        "        val=prior_list[i] # later initialization to be changed to probability of class\n",
        "        a=classifier[i]\n",
        "        for j in range(0,len(data)): # for every feature\n",
        "            if(data[j] in a[j].keys()):\n",
        "                condi_prob_xj=(a[j][data[j]])/sum(a[j].values())\n",
        "            else:\n",
        "                condi_prob_xj=0\n",
        "            val=val*condi_prob_xj\n",
        "        if(max_val<=val):\n",
        "          predict=i\n",
        "          max_val=val\n",
        "    return(max_val)\n",
        "def prediction_part5(data,classifier,target,prior_list):\n",
        "    converted_data=data.to_numpy()\n",
        "    predict_list=[]\n",
        "    for i in range(0,len(converted_data)):\n",
        "        predict_list.append(individual_prediction_part5(converted_data[i],classifier,target,prior_list))\n",
        "    return(predict_list)"
      ],
      "metadata": {
        "id": "CMJWap3Yjh_a"
      },
      "execution_count": 995,
      "outputs": []
    },
    {
      "cell_type": "code",
      "source": [
        "x_test_1=testing_data_1.drop(columns='Survived')\n",
        "pred=prediction_part5(x_test_1,classifier_1,[0,1],prior_list)\n",
        "actual=list(testing_data_1['Survived'])\n",
        "# accuracy(pred,actual)"
      ],
      "metadata": {
        "id": "EqiaZpw0A-Vz"
      },
      "execution_count": 996,
      "outputs": []
    },
    {
      "cell_type": "code",
      "source": [
        "print(pred)\n",
        "plt.scatter([i for i in range(0,len(pred))],list(pred))\n",
        "plt.xlabel(\"Test Data\")\n",
        "plt.ylabel(\"Probability of Top class\")\n",
        "plt.show()"
      ],
      "metadata": {
        "colab": {
          "base_uri": "https://localhost:8080/",
          "height": 317
        },
        "id": "YEt_FEHsRXIk",
        "outputId": "eae5ffe1-52bb-4342-f572-0851d5b1f0b9"
      },
      "execution_count": 997,
      "outputs": [
        {
          "output_type": "stream",
          "name": "stdout",
          "text": [
            "[0.028128110693703096, 0.05774187502381983, 0.27626653657109573, 0.028901729979745404, 0.05774187502381983, 0.07981033278720544, 0.028128110693703096, 0.07981033278720544, 0.27626653657109573, 0.0433525949696181, 0.27626653657109573, 0.27626653657109573, 0.27626653657109573, 0.05774187502381983, 0.27626653657109573, 0.06088002040554917, 0.27626653657109573, 0.27626653657109573, 0.07981033278720544, 0.27626653657109573, 0.27626653657109573, 0.00950182753556529, 0.27626653657109573, 0.05774187502381983, 0.013180029010763735, 0.05774187502381983, 0.27626653657109573, 0.04267877719151902, 0.028901729979745404, 0.27626653657109573, 0.27626653657109573, 0.04267877719151902, 0.05774187502381983, 0.05774187502381983, 0.27626653657109573, 0.00950182753556529, 0.27626653657109573, 0.27626653657109573, 0.27626653657109573, 0.06343898247188125, 0.028901729979745404, 0.013180029010763735, 0.27626653657109573, 0.028128110693703096, 0.07981033278720544, 0.05774187502381983, 0.028128110693703096, 0.27626653657109573, 0.04267877719151902, 0.27626653657109573, 0.27626653657109573, 0.27626653657109573, 0.27626653657109573, 0.028901729979745404, 0.028128110693703096, 0.27626653657109573, 0.07981033278720544, 0.05774187502381983, 0.06088002040554917, 0.05774187502381983, 0.07981033278720544, 0.026678208080625616, 0.0433525949696181, 0.05774187502381983, 0.04267877719151902, 0.06343898247188125, 0.028128110693703096, 0.27626653657109573, 0.27626653657109573, 0.06088002040554917, 0.06343898247188125, 0.27626653657109573, 0.06088002040554917, 0.27626653657109573, 0.27626653657109573, 0.0433525949696181, 0.27626653657109573, 0.00950182753556529, 0.06343898247188125, 0.028128110693703096, 0.007023089917591737, 0.028128110693703096, 0.028128110693703096, 0.04267877719151902, 0.05774187502381983, 0.07981033278720544, 0.028128110693703096, 0.06343898247188125, 0.27626653657109573, 0.06343898247188125, 0.07981033278720544, 0.04267877719151902, 0.04267877719151902, 0.05774187502381983, 0.0433525949696181, 0.028128110693703096, 0.013180029010763735, 0.028901729979745404, 0.06343898247188125, 0.27626653657109573, 0.05774187502381983, 0.27626653657109573, 0.27626653657109573, 0.27626653657109573, 0.27626653657109573, 0.028901729979745404, 0.07981033278720544, 0.0433525949696181, 0.27626653657109573, 0.06343898247188125, 0.06343898247188125, 0.06088002040554917, 0.04267877719151902, 0.27626653657109573, 0.013180029010763735, 0.27626653657109573, 0.06088002040554917, 0.04267877719151902, 0.028901729979745404, 0.06343898247188125, 0.026678208080625616, 0.27626653657109573, 0.27626653657109573, 0.27626653657109573, 0.06343898247188125, 0.27626653657109573, 0.00950182753556529, 0.05774187502381983, 0.06088002040554917, 0.04267877719151902, 0.27626653657109573, 0.27626653657109573, 0.028128110693703096, 0.0433525949696181, 0.028901729979745404, 0.07981033278720544, 0.04267877719151902, 0.06343898247188125, 0.05774187502381983, 0.07981033278720544, 0.013180029010763735, 0.06343898247188125, 0.27626653657109573, 0.028901729979745404, 0.05774187502381983, 0.028128110693703096, 0.013180029010763735, 0.05774187502381983, 0.27626653657109573, 0.05774187502381983, 0.0433525949696181, 0.026678208080625616, 0.028128110693703096, 0.013180029010763735, 0.0433525949696181, 0.06088002040554917, 0.27626653657109573, 0.27626653657109573, 0.04267877719151902, 0.01971867553785372, 0.27626653657109573, 0.27626653657109573, 0.028901729979745404, 0.06343898247188125, 0.04267877719151902, 0.05774187502381983, 0.27626653657109573, 0.00950182753556529, 0.013180029010763735, 0.07981033278720544, 0.27626653657109573, 0.27626653657109573, 0.07981033278720544, 0.07981033278720544, 0.27626653657109573, 0.013180029010763735, 0.07981033278720544, 0.06343898247188125, 0.0433525949696181, 0.27626653657109573, 0.026678208080625616, 0.06343898247188125, 0.04267877719151902, 0.06343898247188125, 0.0433525949696181, 0.27626653657109573, 0.06343898247188125, 0.028128110693703096, 0.27626653657109573, 0.27626653657109573, 0.27626653657109573, 0.07981033278720544, 0.27626653657109573, 0.27626653657109573, 0.04267877719151902, 0.0433525949696181, 0.028901729979745404, 0.05774187502381983, 0.07981033278720544, 0.0433525949696181, 0.04267877719151902, 0.27626653657109573, 0.05774187502381983, 0.05774187502381983, 0.0433525949696181, 0.07981033278720544, 0.27626653657109573, 0.0433525949696181, 0.06088002040554917, 0.04267877719151902, 0.06088002040554917, 0.06343898247188125, 0.27626653657109573, 0.04267877719151902, 0.27626653657109573, 0.06088002040554917, 0.27626653657109573, 0.27626653657109573, 0.27626653657109573, 0.028128110693703096, 0.27626653657109573, 0.05774187502381983]\n"
          ]
        },
        {
          "output_type": "display_data",
          "data": {
            "image/png": "[encoded data removed]",
            "text/plain": [
              "<Figure size 432x288 with 1 Axes>"
            ]
          },
          "metadata": {
            "needs_background": "light"
          }
        }
      ]
    },
    {
      "cell_type": "code",
      "source": [
        "x_test_1=testing_data_1.drop(columns='Survived')\n",
        "pred1=prediction(x_test_1,classifier_1,[0,1],prior_list)\n",
        "actual=list(testing_data_1['Survived'])\n",
        "accuracy(pred1,actual)"
      ],
      "metadata": {
        "colab": {
          "base_uri": "https://localhost:8080/"
        },
        "id": "TbmTrzxPjwmT",
        "outputId": "de6f9e73-4ebe-4d46-e4dd-8d76201f8617"
      },
      "execution_count": 998,
      "outputs": [
        {
          "output_type": "execute_result",
          "data": {
            "text/plain": [
              "74.77477477477477"
            ]
          },
          "metadata": {},
          "execution_count": 998
        }
      ]
    },
    {
      "cell_type": "markdown",
      "source": [
        "6) Comparing accuracy with inbuilt NB classifier"
      ],
      "metadata": {
        "id": "hsbzqmL3RMsB"
      }
    },
    {
      "cell_type": "code",
      "source": [
        "x_train_1=training_data_1.drop(columns='Survived')\n",
        "y_train_1=training_data_1[['Survived']]\n",
        "\n",
        "y_test_1=testing_data_1[['Survived']]"
      ],
      "metadata": {
        "id": "zg1Lqwu8NBsf"
      },
      "execution_count": 999,
      "outputs": []
    },
    {
      "cell_type": "code",
      "source": [
        "mnb=MNB()\n",
        "mnb.fit(x_train_1,y_train_1.values.ravel())\n",
        "sk_predict=list(mnb.predict(x_test_1))\n",
        "print(accuracy(sk_predict,actual))"
      ],
      "metadata": {
        "colab": {
          "base_uri": "https://localhost:8080/"
        },
        "id": "d8-kalNrDi08",
        "outputId": "0aed9f81-2d56-4c74-ef49-7a53e4aade72"
      },
      "execution_count": 1000,
      "outputs": [
        {
          "output_type": "stream",
          "name": "stdout",
          "text": [
            "60.810810810810814\n"
          ]
        }
      ]
    },
    {
      "cell_type": "markdown",
      "source": [
        "7) Implementing some other model"
      ],
      "metadata": {
        "id": "vPxu94WjSE0T"
      }
    },
    {
      "cell_type": "code",
      "source": [
        "from sklearn.tree import DecisionTreeClassifier as DTC\n",
        "dtc=DTC()\n",
        "dtc.fit(x_train_1,y_train_1.values.ravel())\n",
        "dtc_predict=list(dtc.predict(x_test_1))\n",
        "print(accuracy(dtc_predict,actual))"
      ],
      "metadata": {
        "colab": {
          "base_uri": "https://localhost:8080/"
        },
        "id": "yNvAbsTcSFpb",
        "outputId": "ffea7394-31db-49a1-d54c-57ac4838fec6"
      },
      "execution_count": 1001,
      "outputs": [
        {
          "output_type": "stream",
          "name": "stdout",
          "text": [
            "78.82882882882883\n"
          ]
        }
      ]
    },
    {
      "cell_type": "code",
      "source": [
        "def k_fold_cross_validation_dtc(data,k=5):\n",
        "    cv_score=0\n",
        "    accu=[]\n",
        "    data_left=data\n",
        "    for i in range(0,k):\n",
        "        train=data_left.sample(frac=1/(k-i)) \n",
        "        data_left=data_left.drop(train.index)\n",
        "        test=data.drop(train.index)\n",
        "\n",
        "        x_train=train.drop(columns='Survived')\n",
        "        y_train=train[['Survived']]\n",
        "        x_test=test.drop(columns='Survived')\n",
        "        y_test=test[['Survived']]\n",
        "        dtc=DTC()\n",
        "        dtc.fit(x_train,y_train)\n",
        "        y_pred=list(dtc.predict(x_test))\n",
        "        cv_score+=accuracy(y_pred,list(y_test['Survived']))\n",
        "        accu.append(accuracy(y_pred,list(y_test['Survived'])))\n",
        "    return(cv_score/k,accu)\n",
        "cv_dtc,accu_dtc=k_fold_cross_validation_dtc(training_data_1)\n",
        "print(cv_dtc)"
      ],
      "metadata": {
        "colab": {
          "base_uri": "https://localhost:8080/"
        },
        "id": "co0L8PoUnqCN",
        "outputId": "8dd9a751-1c82-4646-9b4c-97ceeba6c422"
      },
      "execution_count": 1002,
      "outputs": [
        {
          "output_type": "stream",
          "name": "stdout",
          "text": [
            "79.27201692068779\n"
          ]
        }
      ]
    },
    {
      "cell_type": "code",
      "source": [
        "plt.bar([i for i in range(1,6)],accu_dtc)\n",
        "plt.xlabel('Kth Fold of Cross-validation')\n",
        "plt.ylabel('Accuracy')\n",
        "plt.show()"
      ],
      "metadata": {
        "colab": {
          "base_uri": "https://localhost:8080/",
          "height": 279
        },
        "id": "PPmrAkr9psyo",
        "outputId": "9d85a3bb-fffc-4cb8-db27-ad222b6de345"
      },
      "execution_count": 1003,
      "outputs": [
        {
          "output_type": "display_data",
          "data": {
            "image/png": "[encoded data removed]",
            "text/plain": [
              "<Figure size 432x288 with 1 Axes>"
            ]
          },
          "metadata": {
            "needs_background": "light"
          }
        }
      ]
    },
    {
      "cell_type": "markdown",
      "source": [
        "# **Q2**"
      ],
      "metadata": {
        "id": "7m456CvSf0ao"
      }
    },
    {
      "cell_type": "code",
      "source": [
        "data_2=pd.read_csv('/content/drive/MyDrive/PRML Lab 4/dataset.csv')"
      ],
      "metadata": {
        "id": "3qMeWcqZgGSi"
      },
      "execution_count": 1004,
      "outputs": []
    },
    {
      "cell_type": "code",
      "source": [
        "from matplotlib.axis import Axis"
      ],
      "metadata": {
        "id": "EQF90Vl0WNga"
      },
      "execution_count": 1005,
      "outputs": []
    },
    {
      "cell_type": "code",
      "source": [
        "# print(data_2.info())\n",
        "data_2=data_2.dropna()\n",
        "# print(data_2.info())\n",
        "data_2=data_2.to_numpy()\n",
        "data_2=pd.DataFrame(data_2,columns=['Area','Perimeter','Compactness','Length of kernel','Width of kernel','Asymmetry coefficient','Length of kernel groove','Class'])"
      ],
      "metadata": {
        "id": "R-i32u_BOO72"
      },
      "execution_count": 1006,
      "outputs": []
    },
    {
      "cell_type": "markdown",
      "source": [
        "1) Plotting distribution of data"
      ],
      "metadata": {
        "id": "gwvvx8oW_x_4"
      }
    },
    {
      "cell_type": "code",
      "source": [
        "plt.hist(data_2['Area'])\n",
        "plt.xlabel('Area')\n",
        "plt.ylabel('Count')\n",
        "plt.show()"
      ],
      "metadata": {
        "colab": {
          "base_uri": "https://localhost:8080/",
          "height": 279
        },
        "id": "i3SZxL2s_q0L",
        "outputId": "41cd3e40-f51d-43d0-ea62-b0de1c0583f1"
      },
      "execution_count": 1007,
      "outputs": [
        {
          "output_type": "display_data",
          "data": {
            "image/png": "[encoded data removed]",
            "text/plain": [
              "<Figure size 432x288 with 1 Axes>"
            ]
          },
          "metadata": {
            "needs_background": "light"
          }
        }
      ]
    },
    {
      "cell_type": "code",
      "source": [
        "plt.hist(data_2['Perimeter'])\n",
        "plt.xlabel('Perimeter')\n",
        "plt.ylabel('Count')\n",
        "plt.show()"
      ],
      "metadata": {
        "colab": {
          "base_uri": "https://localhost:8080/",
          "height": 279
        },
        "id": "RwPyiscqCP_j",
        "outputId": "ae00e1a6-787a-4bbd-d626-d509184dc435"
      },
      "execution_count": 1008,
      "outputs": [
        {
          "output_type": "display_data",
          "data": {
            "image/png": "[encoded data removed]",
            "text/plain": [
              "<Figure size 432x288 with 1 Axes>"
            ]
          },
          "metadata": {
            "needs_background": "light"
          }
        }
      ]
    },
    {
      "cell_type": "code",
      "source": [
        "plt.hist(data_2['Compactness'])\n",
        "plt.xlabel('Compactness')\n",
        "plt.ylabel('Count')\n",
        "plt.show()"
      ],
      "metadata": {
        "colab": {
          "base_uri": "https://localhost:8080/",
          "height": 279
        },
        "outputId": "35f4b1f0-53db-4252-80d6-38eee90a4ee1",
        "id": "G3_WcocUCXNl"
      },
      "execution_count": 1009,
      "outputs": [
        {
          "output_type": "display_data",
          "data": {
            "image/png": "[encoded data removed]",
            "text/plain": [
              "<Figure size 432x288 with 1 Axes>"
            ]
          },
          "metadata": {
            "needs_background": "light"
          }
        }
      ]
    },
    {
      "cell_type": "code",
      "source": [
        "plt.hist(data_2['Length of kernel'])\n",
        "plt.xlabel('Length of kernel')\n",
        "plt.ylabel('Count')\n",
        "plt.show()"
      ],
      "metadata": {
        "colab": {
          "base_uri": "https://localhost:8080/",
          "height": 279
        },
        "outputId": "e9a8d361-345c-43f5-9d90-863c885e26f0",
        "id": "ZGpR4ckTCXmj"
      },
      "execution_count": 1010,
      "outputs": [
        {
          "output_type": "display_data",
          "data": {
            "image/png": "[encoded data removed]",
            "text/plain": [
              "<Figure size 432x288 with 1 Axes>"
            ]
          },
          "metadata": {
            "needs_background": "light"
          }
        }
      ]
    },
    {
      "cell_type": "code",
      "source": [
        "plt.hist(data_2['Width of kernel'])\n",
        "plt.xlabel('Width of kernel')\n",
        "plt.ylabel('Count')\n",
        "plt.show()"
      ],
      "metadata": {
        "colab": {
          "base_uri": "https://localhost:8080/",
          "height": 279
        },
        "outputId": "613c8cac-fc55-4173-ab46-285275d0f238",
        "id": "oZzPgoizCX3q"
      },
      "execution_count": 1011,
      "outputs": [
        {
          "output_type": "display_data",
          "data": {
            "image/png": "[encoded data removed]",
            "text/plain": [
              "<Figure size 432x288 with 1 Axes>"
            ]
          },
          "metadata": {
            "needs_background": "light"
          }
        }
      ]
    },
    {
      "cell_type": "code",
      "source": [
        "plt.hist(data_2['Asymmetry coefficient'])\n",
        "plt.xlabel('Asymmetry coefficient')\n",
        "plt.ylabel('Count')\n",
        "plt.show()"
      ],
      "metadata": {
        "colab": {
          "base_uri": "https://localhost:8080/",
          "height": 279
        },
        "outputId": "87c84c8d-57a8-4bed-aef2-5ab2e4561937",
        "id": "wu2nWVDVCYEO"
      },
      "execution_count": 1012,
      "outputs": [
        {
          "output_type": "display_data",
          "data": {
            "image/png": "[encoded data removed]",
            "text/plain": [
              "<Figure size 432x288 with 1 Axes>"
            ]
          },
          "metadata": {
            "needs_background": "light"
          }
        }
      ]
    },
    {
      "cell_type": "code",
      "source": [
        "plt.hist(data_2['Length of kernel groove'])\n",
        "plt.xlabel('Length of kernel groove')\n",
        "plt.ylabel('Count')\n",
        "plt.show()"
      ],
      "metadata": {
        "colab": {
          "base_uri": "https://localhost:8080/",
          "height": 279
        },
        "id": "sUKZowLMCwki",
        "outputId": "ad6b854c-5790-4830-e491-7cf0d5a4effd"
      },
      "execution_count": 1013,
      "outputs": [
        {
          "output_type": "display_data",
          "data": {
            "image/png": "[encoded data removed]",
            "text/plain": [
              "<Figure size 432x288 with 1 Axes>"
            ]
          },
          "metadata": {
            "needs_background": "light"
          }
        }
      ]
    },
    {
      "cell_type": "markdown",
      "source": [
        "2) Prior probablility for all classes"
      ],
      "metadata": {
        "id": "0t61MI2N_jcS"
      }
    },
    {
      "cell_type": "code",
      "source": [
        "prior_list_2=prior_calcul(data_2,'Class')\n",
        "print(prior_list_2)"
      ],
      "metadata": {
        "colab": {
          "base_uri": "https://localhost:8080/"
        },
        "id": "yn3ouIpmOfCy",
        "outputId": "62d48c11-94dc-49cf-9c04-895bb5b0c610"
      },
      "execution_count": 1014,
      "outputs": [
        {
          "output_type": "stream",
          "name": "stdout",
          "text": [
            "{1.0: 0.3333333333333333, 2.0: 0.3333333333333333, 3.0: 0.3333333333333333}\n"
          ]
        }
      ]
    },
    {
      "cell_type": "code",
      "source": [
        "print(data_2.info())"
      ],
      "metadata": {
        "colab": {
          "base_uri": "https://localhost:8080/"
        },
        "id": "wI4o5NfYm6XS",
        "outputId": "9d1db62f-e25a-430e-9333-ac906d81124e"
      },
      "execution_count": 1015,
      "outputs": [
        {
          "output_type": "stream",
          "name": "stdout",
          "text": [
            "<class 'pandas.core.frame.DataFrame'>\n",
            "RangeIndex: 210 entries, 0 to 209\n",
            "Data columns (total 8 columns):\n",
            " #   Column                   Non-Null Count  Dtype  \n",
            "---  ------                   --------------  -----  \n",
            " 0   Area                     210 non-null    float64\n",
            " 1   Perimeter                210 non-null    float64\n",
            " 2   Compactness              210 non-null    float64\n",
            " 3   Length of kernel         210 non-null    float64\n",
            " 4   Width of kernel          210 non-null    float64\n",
            " 5   Asymmetry coefficient    210 non-null    float64\n",
            " 6   Length of kernel groove  210 non-null    float64\n",
            " 7   Class                    210 non-null    float64\n",
            "dtypes: float64(8)\n",
            "memory usage: 13.2 KB\n",
            "None\n"
          ]
        }
      ]
    },
    {
      "cell_type": "markdown",
      "source": [
        "3) Binning of data"
      ],
      "metadata": {
        "id": "M1UjVV5QTZOk"
      }
    },
    {
      "cell_type": "code",
      "source": [
        "def entropy_data(data):\n",
        "    value,counts=np.unique(data,return_counts=True)\n",
        "    entropy = 0\n",
        "    for i in range (0,len(value)):\n",
        "        p = (counts[i])/np.sum(counts)\n",
        "        entropy = entropy - (p * np.log2(p))\n",
        "    return(entropy)"
      ],
      "metadata": {
        "id": "StAsXhWplSdU"
      },
      "execution_count": 1016,
      "outputs": []
    },
    {
      "cell_type": "code",
      "source": [
        "def binning(data,ind,col,target):\n",
        "    tl=len(data[col])\n",
        "    entro_min=2**30\n",
        "    j=0\n",
        "    a=np.unique(data[col])\n",
        "    rang=a[-1]-a[0]\n",
        "    for i in range(1,10):\n",
        "        data_left=data\n",
        "        e=[]\n",
        "        for k in range(0,i):\n",
        "            sub_data=data_left.where(data[col]<=(a[0]+(k+1)*(rang/i)) ).dropna()\n",
        "            data_left=data.drop(sub_data.index)\n",
        "            e.append((len(sub_data))*(entropy_data(sub_data[target])))\n",
        "        entro=np.sum(e)\n",
        "        if(entro < entro_min):\n",
        "          entro_min=entro\n",
        "          j=i\n",
        "    copy_data=data.to_numpy()\n",
        "    for i in range(0,tl):\n",
        "        copy_data[i][ind]=int(((copy_data[i][ind]-a[0]))/(rang/j))\n",
        "       \n",
        "    updated_data=pd.DataFrame(copy_data,columns=data.columns)\n",
        "    return(updated_data)\n",
        "def complete_data_binning(data):\n",
        "    y=['Area','Perimeter','Compactness','Length of kernel','Width of kernel','Asymmetry coefficient','Length of kernel groove']\n",
        "    for i in range(0, len(y)):\n",
        "      data=binning(data,i,y[i],'Class')  \n",
        "    return(data)"
      ],
      "metadata": {
        "id": "_9KAGeIPlV6A"
      },
      "execution_count": 1017,
      "outputs": []
    },
    {
      "cell_type": "code",
      "source": [
        "copy_data_2=complete_data_binning(data_2)"
      ],
      "metadata": {
        "id": "s14LNNhlmRSh"
      },
      "execution_count": 1018,
      "outputs": []
    },
    {
      "cell_type": "markdown",
      "source": [
        "4) Likelihood of each class"
      ],
      "metadata": {
        "id": "9aP3tXJ-Ty1D"
      }
    },
    {
      "cell_type": "code",
      "source": [
        "def likelihood(data,col):\n",
        "    a=[]\n",
        "    for i in range(0,len(col)):\n",
        "      b=[]\n",
        "      count=np.unique(data[col[i]],return_counts=True)[1]\n",
        "      for j in count:\n",
        "        b.append(j/len(data))\n",
        "      a.append(b)\n",
        "    return(a)\n",
        "y=['Area','Perimeter','Compactness','Length of kernel','Width of kernel','Asymmetry coefficient','Length of kernel groove']\n",
        "l1=likelihood(data_2.where(data_2['Class']==1).dropna(),y)\n",
        "for i in range(0,7):\n",
        "  colr=['b','g','r','c','m','y','k']\n",
        "  sns.pointplot([j for j in range(0,len(l1[i]))],l1[i],linestyles='-',markers=['o'],color=colr[i])\n",
        "plt.axis([-1, 2.5, 0, 1.1])\n",
        "plt.xlabel(\"Feature Value\")\n",
        "plt.ylabel(\"P(Xi/C)\")\n",
        "plt.show()"
      ],
      "metadata": {
        "colab": {
          "base_uri": "https://localhost:8080/",
          "height": 279
        },
        "id": "t2y_JBHLDstB",
        "outputId": "ff994779-1e64-417e-d536-fd2e9d1ec2c1"
      },
      "execution_count": 1019,
      "outputs": [
        {
          "output_type": "display_data",
          "data": {
            "image/png": "[encoded data removed]",
            "text/plain": [
              "<Figure size 432x288 with 1 Axes>"
            ]
          },
          "metadata": {
            "needs_background": "light"
          }
        }
      ]
    },
    {
      "cell_type": "code",
      "source": [
        "l2=likelihood(data_2.where(data_2['Class']==2).dropna(),y)\n",
        "for i in range(0,7):\n",
        "  colr=['b','g','r','c','m','y','k']\n",
        "  sns.pointplot([j for j in range(0,len(l2[i]))],l2[i],linestyles='-',markers=['o'],color=colr[i])\n",
        "plt.axis([-1, 2.5, 0, 1.1])\n",
        "plt.xlabel(\"Feature Value\")\n",
        "plt.ylabel(\"P(Xi/C)\")\n",
        "plt.show()"
      ],
      "metadata": {
        "colab": {
          "base_uri": "https://localhost:8080/",
          "height": 279
        },
        "id": "VucN8VyMJ6YH",
        "outputId": "d18de01d-4202-4b21-b85e-221baa88eff9"
      },
      "execution_count": 1020,
      "outputs": [
        {
          "output_type": "display_data",
          "data": {
            "image/png": "[encoded data removed]",
            "text/plain": [
              "<Figure size 432x288 with 1 Axes>"
            ]
          },
          "metadata": {
            "needs_background": "light"
          }
        }
      ]
    },
    {
      "cell_type": "code",
      "source": [
        "l3=likelihood(data_2.where(data_2['Class']==3).dropna(),y)\n",
        "for i in range(0,7):\n",
        "  colr=['b','g','r','c','m','y','k']\n",
        "  sns.pointplot([j for j in range(0,len(l3[i]))],l3[i],linestyles='-',markers=['o'],color=colr[i])\n",
        "plt.axis([-1, 2.5, 0, 1.1])\n",
        "plt.xlabel(\"Feature Value\")\n",
        "plt.ylabel(\"P(Xi/C)\")\n",
        "plt.show()"
      ],
      "metadata": {
        "colab": {
          "base_uri": "https://localhost:8080/",
          "height": 279
        },
        "id": "iopPbyZeKDcQ",
        "outputId": "304a4f85-b41a-4034-8e95-57dc8c3bcbb3"
      },
      "execution_count": 1021,
      "outputs": [
        {
          "output_type": "display_data",
          "data": {
            "image/png": "[encoded data removed]",
            "text/plain": [
              "<Figure size 432x288 with 1 Axes>"
            ]
          },
          "metadata": {
            "needs_background": "light"
          }
        }
      ]
    },
    {
      "cell_type": "markdown",
      "source": [
        "5) Unique element of each class for each feature"
      ],
      "metadata": {
        "id": "vBadki60Uf6V"
      }
    },
    {
      "cell_type": "code",
      "source": [
        "def uniq_count(data,col):\n",
        "    a=[]\n",
        "    for i in range(0,len(col)):\n",
        "      b=np.unique(data[col[i]],return_counts=True)[1]\n",
        "      a.append(b)\n",
        "    return(a)\n",
        "uc_1=uniq_count(data_2.where(data_2['Class']==1).dropna(),y)\n",
        "uc_2=uniq_count(data_2.where(data_2['Class']==2).dropna(),y)\n",
        "uc_3=uniq_count(data_2.where(data_2['Class']==3).dropna(),y)"
      ],
      "metadata": {
        "id": "APJEp-RBUgr6"
      },
      "execution_count": 1022,
      "outputs": []
    },
    {
      "cell_type": "code",
      "source": [
        "for i in range(0,7):\n",
        "  colr=['b','g','r','c','m','y','k']\n",
        "  sns.pointplot([j for j in range(0,len(uc_1[i]))],uc_1[i],linestyles='-',markers=['o'],color=colr[i])\n",
        "plt.axis([-1, 2.5,0,100])\n",
        "plt.xlabel(\"Feature Value\")\n",
        "plt.ylabel(\"Count\")\n",
        "plt.show()"
      ],
      "metadata": {
        "colab": {
          "base_uri": "https://localhost:8080/",
          "height": 283
        },
        "id": "RgzGOWkhVAtQ",
        "outputId": "e3bf32ff-99ac-4026-c9b8-c2505cf5f7c5"
      },
      "execution_count": 1023,
      "outputs": [
        {
          "output_type": "display_data",
          "data": {
            "image/png": "[encoded data removed]",
            "text/plain": [
              "<Figure size 432x288 with 1 Axes>"
            ]
          },
          "metadata": {
            "needs_background": "light"
          }
        }
      ]
    },
    {
      "cell_type": "code",
      "source": [
        "for i in range(0,7):\n",
        "  colr=['b','g','r','c','m','y','k']\n",
        "  sns.pointplot([j for j in range(0,len(uc_2[i]))],uc_2[i],linestyles='-',markers=['o'],color=colr[i])\n",
        "plt.axis([-1, 2.5,0,100])\n",
        "plt.xlabel(\"Feature Value\")\n",
        "plt.ylabel(\"Count\")\n",
        "plt.show()"
      ],
      "metadata": {
        "colab": {
          "base_uri": "https://localhost:8080/",
          "height": 283
        },
        "id": "1mBNgmdZVfU4",
        "outputId": "5b3cef1e-69aa-41c4-91cc-b1da890f2857"
      },
      "execution_count": 1024,
      "outputs": [
        {
          "output_type": "display_data",
          "data": {
            "image/png": "[encoded data removed]",
            "text/plain": [
              "<Figure size 432x288 with 1 Axes>"
            ]
          },
          "metadata": {
            "needs_background": "light"
          }
        }
      ]
    },
    {
      "cell_type": "code",
      "source": [
        "for i in range(0,7):\n",
        "  colr=['b','g','r','c','m','y','k']\n",
        "  sns.pointplot([j for j in range(0,len(uc_3[i]))],uc_3[i],linestyles='-',markers=['o'],color=colr[i])\n",
        "plt.axis([-1, 2.5,0,100])\n",
        "plt.xlabel(\"Feature Value\")\n",
        "plt.ylabel(\"Count\")\n",
        "plt.show()"
      ],
      "metadata": {
        "colab": {
          "base_uri": "https://localhost:8080/",
          "height": 283
        },
        "id": "jzE16YzHVitk",
        "outputId": "d60d85d8-5ae2-4630-8515-349c6abfe947"
      },
      "execution_count": 1025,
      "outputs": [
        {
          "output_type": "display_data",
          "data": {
            "image/png": "[encoded data removed]",
            "text/plain": [
              "<Figure size 432x288 with 1 Axes>"
            ]
          },
          "metadata": {
            "needs_background": "light"
          }
        }
      ]
    },
    {
      "cell_type": "markdown",
      "source": [
        "6) Posterior Probability"
      ],
      "metadata": {
        "id": "-gAUSbcuTS1m"
      }
    },
    {
      "cell_type": "code",
      "source": [
        "prob_feature_value=[]\n",
        "for i in range(0,7):\n",
        "  abc=[0 for i in range(0,10)]\n",
        "  for j in range(0,len(l1[i])):\n",
        "    abc[j]+=(l1[i][j]*prior_list_2[1])\n",
        "  for j in range(0,len(l2[i])):\n",
        "    abc[j]+=(l2[i][j]*prior_list_2[2])\n",
        "  for j in range(0,len(l3[i])):\n",
        "    abc[j]+=(l3[i][j]*prior_list_2[3])\n",
        "  prob_feature_value.append(abc)"
      ],
      "metadata": {
        "id": "ydnjbuIWMnf9"
      },
      "execution_count": 1026,
      "outputs": []
    },
    {
      "cell_type": "code",
      "source": [
        "l1=likelihood(data_2.where(data_2['Class']==1).dropna(),y)\n",
        "for i in range(0,7):\n",
        "  colr=['b','g','r','c','m','y','k']\n",
        "  sns.pointplot([j for j in range(0,len(l1[i]))],[(l1[i][k]*(prior_list_2[1]/prob_feature_value[i][k])) for k in range(0,len(l1[i]))],linestyles='-',markers=['o'],color=colr[i])\n",
        "plt.axis([-1, 2.5, 0, 1.1])\n",
        "plt.xlabel(\"Feature Value\")\n",
        "plt.ylabel(\"P(C/Xi)\")\n",
        "plt.show()"
      ],
      "metadata": {
        "colab": {
          "base_uri": "https://localhost:8080/",
          "height": 279
        },
        "id": "hjrXR_BzG9zq",
        "outputId": "6dd75d38-148a-4cd3-abc9-a6500eff48b5"
      },
      "execution_count": 1027,
      "outputs": [
        {
          "output_type": "display_data",
          "data": {
            "image/png": "[encoded data removed]",
            "text/plain": [
              "<Figure size 432x288 with 1 Axes>"
            ]
          },
          "metadata": {
            "needs_background": "light"
          }
        }
      ]
    },
    {
      "cell_type": "code",
      "source": [
        "l2=likelihood(data_2.where(data_2['Class']==2).dropna(),y)\n",
        "for i in range(0,7):\n",
        "  colr=['b','g','r','c','m','y','k']\n",
        "  sns.pointplot([j for j in range(0,len(l2[i]))],[(l2[i][k]*(prior_list_2[1]/prob_feature_value[i][k])) for k in range(0,len(l2[i]))],linestyles='-',markers=['o'],color=colr[i])\n",
        "plt.axis([-1, 2.5, 0, 1.1])\n",
        "plt.xlabel(\"Feature Value\")\n",
        "plt.ylabel(\"P(C/Xi)\")\n",
        "plt.show()"
      ],
      "metadata": {
        "colab": {
          "base_uri": "https://localhost:8080/",
          "height": 279
        },
        "id": "EsjlzKTwMMkM",
        "outputId": "242500cf-a322-42a2-b4e2-d55673863c50"
      },
      "execution_count": 1028,
      "outputs": [
        {
          "output_type": "display_data",
          "data": {
            "image/png": "[encoded data removed]",
            "text/plain": [
              "<Figure size 432x288 with 1 Axes>"
            ]
          },
          "metadata": {
            "needs_background": "light"
          }
        }
      ]
    },
    {
      "cell_type": "code",
      "source": [
        "l3=likelihood(data_2.where(data_2['Class']==3).dropna(),y)\n",
        "for i in range(0,7):\n",
        "  colr=['b','g','r','c','m','y','k']\n",
        "  sns.pointplot([j for j in range(0,len(l3[i]))],[(l3[i][k]*(prior_list_2[1]/prob_feature_value[i][k])) for k in range(0,len(l3[i]))],linestyles='-',markers=['o'],color=colr[i])\n",
        "plt.axis([-1, 2.5, 0, 1.1])\n",
        "plt.xlabel(\"Feature Value\")\n",
        "plt.ylabel(\"P(C/Xi)\")\n",
        "plt.show()"
      ],
      "metadata": {
        "colab": {
          "base_uri": "https://localhost:8080/",
          "height": 279
        },
        "id": "vUvAsnY7MaW1",
        "outputId": "4778a5af-54ae-4194-a2af-3f3e8c3da0a6"
      },
      "execution_count": 1029,
      "outputs": [
        {
          "output_type": "display_data",
          "data": {
            "image/png": "[encoded data removed]",
            "text/plain": [
              "<Figure size 432x288 with 1 Axes>"
            ]
          },
          "metadata": {
            "needs_background": "light"
          }
        }
      ]
    }
  ]
}